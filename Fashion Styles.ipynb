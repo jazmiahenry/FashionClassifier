{
 "cells": [
  {
   "cell_type": "markdown",
   "metadata": {},
   "source": [
    "## Fashion Styles\n",
    "#### **By Jazmia Henry**"
   ]
  },
  {
   "cell_type": "markdown",
   "metadata": {},
   "source": [
    "1. Create API using Nanonets\n",
    "    >git clone https://github.com/NanoNets/image-classification-sample-python.git\n",
    "    >cd image-classification-sample-python,\n",
    "    >sudo pip install requests"
   ]
  },
  {
   "cell_type": "markdown",
   "metadata": {},
   "source": [
    "2. Download 1000 photos using Fatkun Batch Download Chrome extension\n",
    "    \n",
    "    A. Create four folders by fashion syle:\n",
    "            - Preppy\n",
    "            - Streetwear\n",
    "            - Grunge\n",
    "            - Haute Couture"
   ]
  },
  {
   "cell_type": "markdown",
   "metadata": {},
   "source": [
    "3. Train Model with four fashion styles using 1000 photos:\n",
    "            - Preppy\n",
    "            - Streetwear\n",
    "            - Grunge\n",
    "            - Haute Couture"
   ]
  },
  {
   "cell_type": "markdown",
   "metadata": {},
   "source": [
    "4. API accuracy: 79.45206%"
   ]
  },
  {
   "cell_type": "code",
   "execution_count": 3,
   "metadata": {},
   "outputs": [
    {
     "name": "stdout",
     "output_type": "stream",
     "text": [
      "{\"message\":\"Success\",\"result\":[{\"message\":\"Success\",\"prediction\":[{\"label\":\"grunge\",\"probability\":0.63811845},{\"label\":\"preppy\",\"probability\":0.35180947},{\"label\":\"haute_couture\",\"probability\":0.020421637},{\"label\":\"streetwear\",\"probability\":0.014267743}],\"file\":\"2Q__ (9).jpg\"}]}\n"
     ]
    }
   ],
   "source": [
    "import requests\n",
    "\n",
    "url = 'https://app.nanonets.com/api/v2/MultiLabelClassification/Model/a87be72f-4e01-4427-98a7-d5896b828b8d/LabelFiles/'\n",
    "\n",
    "data = {'files': open('/Users/jazmiahenry/fashionstyles/2Q__ (9).jpg', 'rb'), 'modelId': ('', 'a87be72f-4e01-4427-98a7-d5896b828b8d')}\n",
    "\n",
    "response = requests.post(url, auth= requests.auth.HTTPBasicAuth('fzE9ZZ4fzGxf6tlby4S3qAFFvkp2_5pG', ''), files=data)\n",
    "\n",
    "print(response.text)"
   ]
  }
 ],
 "metadata": {
  "kernelspec": {
   "display_name": "Python 3",
   "language": "python",
   "name": "python3"
  },
  "language_info": {
   "codemirror_mode": {
    "name": "ipython",
    "version": 3
   },
   "file_extension": ".py",
   "mimetype": "text/x-python",
   "name": "python",
   "nbconvert_exporter": "python",
   "pygments_lexer": "ipython3",
   "version": "3.7.6"
  }
 },
 "nbformat": 4,
 "nbformat_minor": 4
}
